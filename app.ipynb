{
 "cells": [
  {
   "cell_type": "code",
   "execution_count": null,
   "metadata": {},
   "outputs": [],
   "source": [
    "from flask import Flask, request\n",
    "import smtplib\n",
    "\n",
    "app = Flask(__name__)\n",
    "\n",
    "@app.route('/live-helpline', methods=['POST'])\n",
    "def send_email():\n",
    "    name = request.form['name']\n",
    "    email = request.form['email']\n",
    "    message = request.form['message']\n",
    "\n",
    "    # Your email sending logic goes here\n",
    "    # Example using smtplib for sending email\n",
    "    subject = \"New Helpline Message\"\n",
    "    body = f\"Name: {name}\\nEmail: {email}\\nMessage: {message}\"\n",
    "\n",
    "    try:\n",
    "        with smtplib.SMTP('smtp.example.com', 587) as server:\n",
    "            server.login('i212768@nu.edu.pk', 'WTF@NOREEN26')\n",
    "            server.sendmail(email, 'i212768@nu.edu.pk', f'Subject: {subject}\\n\\n{body}')\n",
    "        return \"Email sent successfully\"\n",
    "    except Exception as e:\n",
    "        return f\"An error occurred: {str(e)}\"\n",
    "\n",
    "if __name__ == '__main__':\n",
    "    app.run(debug=True)\n"
   ]
  }
 ],
 "metadata": {
  "language_info": {
   "name": "python"
  }
 },
 "nbformat": 4,
 "nbformat_minor": 2
}
